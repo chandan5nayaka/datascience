{
 "cells": [
  {
   "cell_type": "code",
   "execution_count": 1,
   "metadata": {},
   "outputs": [],
   "source": [
    "#Class & methods"
   ]
  },
  {
   "cell_type": "code",
   "execution_count": 7,
   "metadata": {},
   "outputs": [],
   "source": [
    "class human:\n",
    "    def __init__(self,name,occupation):\n",
    "        self.name=name\n",
    "        self.occupation=occupation\n",
    "    def do_work(self):\n",
    "        if self.occupation==\"tennis player\":\n",
    "            print(self.name,'plays tennis')\n",
    "        elif self.occupation==\"actor\":\n",
    "            print(self.name,\"shoots film\")\n",
    "    def speaks(self):\n",
    "        print(self.name, \"says how are you?\")"
   ]
  },
  {
   "cell_type": "code",
   "execution_count": 9,
   "metadata": {},
   "outputs": [
    {
     "name": "stdout",
     "output_type": "stream",
     "text": [
      "tom cruise shoots film\n",
      "tom cruise says how are you?\n"
     ]
    }
   ],
   "source": [
    "tom=human(\"tom cruise\",\"actor\")\n",
    "tom.do_work()\n",
    "tom.speaks()"
   ]
  },
  {
   "cell_type": "code",
   "execution_count": 10,
   "metadata": {},
   "outputs": [
    {
     "name": "stdout",
     "output_type": "stream",
     "text": [
      "maria sharapova plays tennis\n",
      "maria sharapova says how are you?\n"
     ]
    }
   ],
   "source": [
    "maria=human(\"maria sharapova\",\"tennis player\")\n",
    "maria.do_work()\n",
    "maria.speaks()"
   ]
  },
  {
   "cell_type": "code",
   "execution_count": 11,
   "metadata": {},
   "outputs": [],
   "source": [
    "#inheritance:which inherits properties from one class"
   ]
  },
  {
   "cell_type": "code",
   "execution_count": 22,
   "metadata": {},
   "outputs": [],
   "source": [
    "class vehicle:\n",
    "    \n",
    "    def general_usage(self):\n",
    "        print(\"used for transport\")\n",
    "        \n",
    "class car(vehicle):\n",
    "    def __init__(self):\n",
    "        print (\"i am a car\")\n",
    "        self.wheels=4\n",
    "        self.has_roof = True\n",
    "        \n",
    "    def specific_usage(self):\n",
    "        self.general_usage()\n",
    "        print('specific_usage:commute to work,vacation with family')\n",
    "        \n",
    "class bike(vehicle):\n",
    "    def __init__(self):\n",
    "        print(\"i am a bike\")\n",
    "        self.wheels=2\n",
    "        self.has_roof=False\n",
    "    def specific_usage(self):\n",
    "        self.general_usage()\n",
    "        print('specific_usage=commute to work,bike riding')"
   ]
  },
  {
   "cell_type": "code",
   "execution_count": 20,
   "metadata": {},
   "outputs": [
    {
     "name": "stdout",
     "output_type": "stream",
     "text": [
      "i am a car\n"
     ]
    }
   ],
   "source": [
    "c=car()"
   ]
  },
  {
   "cell_type": "code",
   "execution_count": 23,
   "metadata": {},
   "outputs": [
    {
     "name": "stdout",
     "output_type": "stream",
     "text": [
      "i am a bike\n"
     ]
    }
   ],
   "source": [
    "c=bike()"
   ]
  },
  {
   "cell_type": "code",
   "execution_count": 24,
   "metadata": {},
   "outputs": [],
   "source": [
    "#multiple inheritance:which inherits properties of more than one class"
   ]
  },
  {
   "cell_type": "code",
   "execution_count": 25,
   "metadata": {},
   "outputs": [],
   "source": [
    "class father():\n",
    "    def skills(self):\n",
    "        print('gardening')\n",
    "    \n",
    "class mother():\n",
    "    def skills(self):\n",
    "        print('cooking')\n",
    "        \n",
    "class child(father,mother):\n",
    "    def skills(self):\n",
    "        father.skills(self)\n",
    "        mother.skills(self)\n",
    "        print('sports')\n",
    "        "
   ]
  },
  {
   "cell_type": "code",
   "execution_count": 27,
   "metadata": {},
   "outputs": [
    {
     "name": "stdout",
     "output_type": "stream",
     "text": [
      "gardening\n",
      "cooking\n",
      "sports\n"
     ]
    }
   ],
   "source": [
    "c=child()\n",
    "c.skills()"
   ]
  },
  {
   "cell_type": "code",
   "execution_count": null,
   "metadata": {},
   "outputs": [],
   "source": [
    "#NLP:natural language processing"
   ]
  }
 ],
 "metadata": {
  "kernelspec": {
   "display_name": "Python 3",
   "language": "python",
   "name": "python3"
  },
  "language_info": {
   "codemirror_mode": {
    "name": "ipython",
    "version": 3
   },
   "file_extension": ".py",
   "mimetype": "text/x-python",
   "name": "python",
   "nbconvert_exporter": "python",
   "pygments_lexer": "ipython3",
   "version": "3.7.0"
  }
 },
 "nbformat": 4,
 "nbformat_minor": 2
}
