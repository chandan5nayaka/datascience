{
 "cells": [
  {
   "cell_type": "code",
   "execution_count": 69,
   "metadata": {},
   "outputs": [],
   "source": [
    "import pandas as pd\n",
    "import numpy as np\n",
    "import matplotlib as plt\n",
    "%matplotlib inline\n",
    "from statistics import mode"
   ]
  },
  {
   "cell_type": "code",
   "execution_count": 25,
   "metadata": {},
   "outputs": [],
   "source": [
    "df1=pd.DataFrame((dict(id=range(6),age=np.random.randint(18,31,size=6))))"
   ]
  },
  {
   "cell_type": "code",
   "execution_count": 26,
   "metadata": {},
   "outputs": [
    {
     "data": {
      "text/html": [
       "<div>\n",
       "<style scoped>\n",
       "    .dataframe tbody tr th:only-of-type {\n",
       "        vertical-align: middle;\n",
       "    }\n",
       "\n",
       "    .dataframe tbody tr th {\n",
       "        vertical-align: top;\n",
       "    }\n",
       "\n",
       "    .dataframe thead th {\n",
       "        text-align: right;\n",
       "    }\n",
       "</style>\n",
       "<table border=\"1\" class=\"dataframe\">\n",
       "  <thead>\n",
       "    <tr style=\"text-align: right;\">\n",
       "      <th></th>\n",
       "      <th>id</th>\n",
       "      <th>age</th>\n",
       "    </tr>\n",
       "  </thead>\n",
       "  <tbody>\n",
       "    <tr>\n",
       "      <th>0</th>\n",
       "      <td>0</td>\n",
       "      <td>19</td>\n",
       "    </tr>\n",
       "    <tr>\n",
       "      <th>1</th>\n",
       "      <td>1</td>\n",
       "      <td>18</td>\n",
       "    </tr>\n",
       "    <tr>\n",
       "      <th>2</th>\n",
       "      <td>2</td>\n",
       "      <td>23</td>\n",
       "    </tr>\n",
       "    <tr>\n",
       "      <th>3</th>\n",
       "      <td>3</td>\n",
       "      <td>18</td>\n",
       "    </tr>\n",
       "    <tr>\n",
       "      <th>4</th>\n",
       "      <td>4</td>\n",
       "      <td>29</td>\n",
       "    </tr>\n",
       "    <tr>\n",
       "      <th>5</th>\n",
       "      <td>5</td>\n",
       "      <td>24</td>\n",
       "    </tr>\n",
       "  </tbody>\n",
       "</table>\n",
       "</div>"
      ],
      "text/plain": [
       "   id  age\n",
       "0   0   19\n",
       "1   1   18\n",
       "2   2   23\n",
       "3   3   18\n",
       "4   4   29\n",
       "5   5   24"
      ]
     },
     "execution_count": 26,
     "metadata": {},
     "output_type": "execute_result"
    }
   ],
   "source": [
    "df1"
   ]
  },
  {
   "cell_type": "code",
   "execution_count": 6,
   "metadata": {},
   "outputs": [
    {
     "data": {
      "text/plain": [
       "id      2.5\n",
       "age    26.5\n",
       "dtype: float64"
      ]
     },
     "execution_count": 6,
     "metadata": {},
     "output_type": "execute_result"
    }
   ],
   "source": [
    "df1.mean()"
   ]
  },
  {
   "cell_type": "code",
   "execution_count": 7,
   "metadata": {},
   "outputs": [
    {
     "data": {
      "text/plain": [
       "id      2.5\n",
       "age    26.5\n",
       "dtype: float64"
      ]
     },
     "execution_count": 7,
     "metadata": {},
     "output_type": "execute_result"
    }
   ],
   "source": [
    "df1.median()"
   ]
  },
  {
   "cell_type": "code",
   "execution_count": 8,
   "metadata": {},
   "outputs": [
    {
     "data": {
      "text/html": [
       "<div>\n",
       "<style scoped>\n",
       "    .dataframe tbody tr th:only-of-type {\n",
       "        vertical-align: middle;\n",
       "    }\n",
       "\n",
       "    .dataframe tbody tr th {\n",
       "        vertical-align: top;\n",
       "    }\n",
       "\n",
       "    .dataframe thead th {\n",
       "        text-align: right;\n",
       "    }\n",
       "</style>\n",
       "<table border=\"1\" class=\"dataframe\">\n",
       "  <thead>\n",
       "    <tr style=\"text-align: right;\">\n",
       "      <th></th>\n",
       "      <th>id</th>\n",
       "      <th>age</th>\n",
       "    </tr>\n",
       "  </thead>\n",
       "  <tbody>\n",
       "    <tr>\n",
       "      <th>0</th>\n",
       "      <td>0</td>\n",
       "      <td>23</td>\n",
       "    </tr>\n",
       "    <tr>\n",
       "      <th>1</th>\n",
       "      <td>1</td>\n",
       "      <td>25</td>\n",
       "    </tr>\n",
       "    <tr>\n",
       "      <th>2</th>\n",
       "      <td>2</td>\n",
       "      <td>26</td>\n",
       "    </tr>\n",
       "    <tr>\n",
       "      <th>3</th>\n",
       "      <td>3</td>\n",
       "      <td>27</td>\n",
       "    </tr>\n",
       "    <tr>\n",
       "      <th>4</th>\n",
       "      <td>4</td>\n",
       "      <td>28</td>\n",
       "    </tr>\n",
       "    <tr>\n",
       "      <th>5</th>\n",
       "      <td>5</td>\n",
       "      <td>30</td>\n",
       "    </tr>\n",
       "  </tbody>\n",
       "</table>\n",
       "</div>"
      ],
      "text/plain": [
       "   id  age\n",
       "0   0   23\n",
       "1   1   25\n",
       "2   2   26\n",
       "3   3   27\n",
       "4   4   28\n",
       "5   5   30"
      ]
     },
     "execution_count": 8,
     "metadata": {},
     "output_type": "execute_result"
    }
   ],
   "source": [
    "df1.mode()"
   ]
  },
  {
   "cell_type": "code",
   "execution_count": 9,
   "metadata": {},
   "outputs": [
    {
     "data": {
      "text/plain": [
       "26.5"
      ]
     },
     "execution_count": 9,
     "metadata": {},
     "output_type": "execute_result"
    }
   ],
   "source": [
    "df1.age.mean()"
   ]
  },
  {
   "cell_type": "code",
   "execution_count": 10,
   "metadata": {},
   "outputs": [
    {
     "data": {
      "text/plain": [
       "0    23\n",
       "1    25\n",
       "2    26\n",
       "3    27\n",
       "4    28\n",
       "5    30\n",
       "dtype: int32"
      ]
     },
     "execution_count": 10,
     "metadata": {},
     "output_type": "execute_result"
    }
   ],
   "source": [
    "df1.age.mode()"
   ]
  },
  {
   "cell_type": "code",
   "execution_count": 11,
   "metadata": {},
   "outputs": [
    {
     "data": {
      "text/plain": [
       "2.4289915602982237"
      ]
     },
     "execution_count": 11,
     "metadata": {},
     "output_type": "execute_result"
    }
   ],
   "source": [
    "df1.age.std()"
   ]
  },
  {
   "cell_type": "code",
   "execution_count": 12,
   "metadata": {},
   "outputs": [
    {
     "data": {
      "text/plain": [
       "5.9"
      ]
     },
     "execution_count": 12,
     "metadata": {},
     "output_type": "execute_result"
    }
   ],
   "source": [
    "df1.age.var()"
   ]
  },
  {
   "cell_type": "code",
   "execution_count": 13,
   "metadata": {},
   "outputs": [],
   "source": [
    "#range"
   ]
  },
  {
   "cell_type": "code",
   "execution_count": 14,
   "metadata": {},
   "outputs": [
    {
     "data": {
      "text/plain": [
       "7"
      ]
     },
     "execution_count": 14,
     "metadata": {},
     "output_type": "execute_result"
    }
   ],
   "source": [
    "df1.age.max()-df1.age.min()"
   ]
  },
  {
   "cell_type": "code",
   "execution_count": 15,
   "metadata": {},
   "outputs": [],
   "source": [
    "#how to plot a graph"
   ]
  },
  {
   "cell_type": "code",
   "execution_count": 21,
   "metadata": {},
   "outputs": [
    {
     "data": {
      "text/plain": [
       "<matplotlib.axes._subplots.AxesSubplot at 0x1f99e9cb550>"
      ]
     },
     "execution_count": 21,
     "metadata": {},
     "output_type": "execute_result"
    },
    {
     "data": {
      "image/png": "[encoded data removed]",
      "text/plain": [
       "<Figure size 432x288 with 1 Axes>"
      ]
     },
     "metadata": {
      "needs_background": "light"
     },
     "output_type": "display_data"
    }
   ],
   "source": [
    "df1.boxplot(column=\"age\",return_type='axes')"
   ]
  },
  {
   "cell_type": "code",
   "execution_count": 27,
   "metadata": {},
   "outputs": [
    {
     "data": {
      "text/plain": [
       "0.8877995255333433"
      ]
     },
     "execution_count": 27,
     "metadata": {},
     "output_type": "execute_result"
    }
   ],
   "source": [
    "df1['age'].skew()"
   ]
  },
  {
   "cell_type": "code",
   "execution_count": 30,
   "metadata": {},
   "outputs": [
    {
     "data": {
      "text/plain": [
       "0.8877995255333433"
      ]
     },
     "execution_count": 30,
     "metadata": {},
     "output_type": "execute_result"
    }
   ],
   "source": [
    "df1.age.skew()"
   ]
  },
  {
   "cell_type": "code",
   "execution_count": 35,
   "metadata": {},
   "outputs": [
    {
     "data": {
      "text/plain": [
       "<bound method Series.kurt of 0    19\n",
       "1    18\n",
       "2    23\n",
       "3    18\n",
       "4    29\n",
       "5    24\n",
       "Name: age, dtype: int32>"
      ]
     },
     "execution_count": 35,
     "metadata": {},
     "output_type": "execute_result"
    }
   ],
   "source": [
    "df1.age.kurtosis"
   ]
  },
  {
   "cell_type": "code",
   "execution_count": 36,
   "metadata": {},
   "outputs": [],
   "source": [
    "#to find the peak of curve is measure of kurtosis"
   ]
  },
  {
   "cell_type": "code",
   "execution_count": 37,
   "metadata": {},
   "outputs": [],
   "source": [
    "#inferential statistaical analysis infers properties of population"
   ]
  },
  {
   "cell_type": "code",
   "execution_count": 38,
   "metadata": {},
   "outputs": [],
   "source": [
    "population=np.random.randint(10,20,1000)"
   ]
  },
  {
   "cell_type": "code",
   "execution_count": 39,
   "metadata": {},
   "outputs": [
    {
     "data": {
      "text/plain": [
       "array([12, 18, 15, 17, 15, 10, 17, 13, 19, 18, 18, 16, 11, 12, 16, 15, 15,\n",
       "       10, 19, 19, 15, 16, 17, 17, 11, 10, 17, 17, 19, 18, 10, 14, 16, 12,\n",
       "       12, 10, 16, 10, 17, 17, 15, 15, 15, 17, 13, 15, 19, 17, 11, 16, 18,\n",
       "       14, 14, 12, 15, 18, 11, 17, 16, 14, 17, 11, 11, 19, 12, 16, 19, 14,\n",
       "       11, 19, 15, 17, 12, 13, 12, 13, 14, 18, 14, 11, 11, 14, 12, 14, 18,\n",
       "       12, 13, 13, 10, 13, 16, 17, 14, 10, 12, 14, 14, 19, 13, 17, 15, 15,\n",
       "       19, 10, 18, 18, 14, 17, 12, 19, 15, 10, 17, 11, 13, 17, 17, 11, 15,\n",
       "       18, 15, 15, 19, 16, 10, 17, 10, 14, 13, 17, 14, 10, 14, 18, 17, 14,\n",
       "       11, 10, 18, 19, 11, 10, 18, 12, 18, 11, 14, 15, 16, 10, 14, 16, 13,\n",
       "       10, 13, 19, 13, 12, 14, 12, 19, 12, 14, 13, 17, 16, 16, 12, 10, 12,\n",
       "       16, 13, 18, 14, 16, 10, 14, 10, 17, 11, 19, 14, 15, 16, 13, 19, 10,\n",
       "       12, 14, 12, 19, 11, 17, 12, 16, 14, 10, 11, 15, 15, 13, 17, 16, 12,\n",
       "       13, 14, 15, 12, 10, 12, 17, 10, 13, 13, 17, 16, 11, 10, 10, 12, 18,\n",
       "       17, 16, 10, 12, 16, 11, 12, 10, 14, 17, 15, 11, 10, 18, 15, 14, 16,\n",
       "       18, 16, 12, 18, 13, 17, 13, 15, 18, 12, 10, 16, 16, 14, 19, 19, 16,\n",
       "       15, 17, 10, 13, 14, 13, 18, 17, 19, 14, 15, 15, 10, 16, 16, 19, 19,\n",
       "       18, 17, 12, 13, 12, 13, 14, 12, 13, 15, 14, 10, 11, 17, 10, 19, 13,\n",
       "       10, 14, 14, 12, 18, 19, 14, 14, 17, 15, 16, 10, 13, 13, 19, 11, 19,\n",
       "       19, 12, 19, 16, 17, 12, 14, 10, 12, 15, 15, 17, 12, 18, 14, 12, 14,\n",
       "       15, 14, 18, 16, 15, 16, 19, 10, 13, 11, 15, 14, 11, 12, 18, 13, 10,\n",
       "       11, 10, 11, 19, 17, 16, 14, 14, 13, 16, 13, 12, 10, 18, 12, 17, 10,\n",
       "       11, 17, 15, 19, 19, 11, 15, 11, 16, 15, 18, 11, 18, 15, 18, 13, 11,\n",
       "       14, 16, 14, 14, 13, 13, 17, 16, 12, 10, 11, 12, 10, 10, 19, 15, 19,\n",
       "       11, 12, 10, 15, 16, 18, 13, 15, 10, 11, 16, 13, 11, 18, 16, 15, 15,\n",
       "       15, 17, 15, 12, 12, 17, 13, 14, 19, 14, 18, 15, 19, 13, 14, 13, 19,\n",
       "       11, 16, 12, 11, 16, 18, 11, 18, 19, 10, 15, 16, 10, 14, 17, 14, 10,\n",
       "       10, 19, 18, 15, 18, 14, 18, 13, 10, 19, 16, 18, 10, 10, 12, 19, 19,\n",
       "       13, 17, 13, 13, 10, 15, 12, 14, 17, 19, 11, 16, 12, 12, 11, 17, 17,\n",
       "       19, 14, 11, 17, 19, 11, 19, 16, 19, 14, 11, 17, 13, 13, 11, 11, 17,\n",
       "       10, 15, 17, 19, 17, 16, 11, 12, 13, 10, 10, 11, 15, 13, 11, 10, 13,\n",
       "       10, 12, 15, 18, 12, 18, 15, 13, 17, 18, 12, 11, 15, 14, 14, 14, 14,\n",
       "       16, 17, 14, 14, 19, 15, 10, 17, 11, 11, 10, 12, 12, 15, 14, 11, 13,\n",
       "       12, 11, 14, 14, 10, 19, 15, 13, 10, 15, 18, 11, 10, 10, 17, 16, 10,\n",
       "       14, 14, 14, 18, 12, 14, 17, 10, 15, 16, 13, 19, 12, 17, 11, 16, 13,\n",
       "       11, 11, 11, 11, 11, 12, 17, 19, 11, 13, 13, 15, 17, 12, 17, 19, 12,\n",
       "       15, 10, 17, 10, 13, 15, 15, 18, 19, 10, 13, 17, 11, 10, 16, 15, 14,\n",
       "       17, 11, 12, 18, 11, 14, 14, 11, 12, 19, 19, 19, 16, 14, 17, 19, 12,\n",
       "       12, 11, 18, 19, 10, 11, 17, 17, 18, 15, 10, 13, 18, 16, 18, 14, 19,\n",
       "       19, 12, 13, 18, 11, 17, 13, 13, 14, 13, 13, 16, 18, 12, 11, 18, 13,\n",
       "       16, 10, 16, 13, 14, 17, 14, 10, 16, 11, 17, 10, 11, 16, 14, 12, 15,\n",
       "       14, 18, 15, 11, 17, 14, 14, 13, 10, 13, 11, 17, 19, 19, 19, 10, 13,\n",
       "       10, 17, 11, 16, 19, 15, 18, 14, 12, 15, 18, 17, 18, 15, 15, 15, 17,\n",
       "       15, 12, 17, 17, 10, 16, 19, 10, 13, 11, 15, 14, 12, 14, 17, 10, 11,\n",
       "       14, 19, 18, 18, 17, 18, 12, 18, 14, 18, 13, 11, 16, 18, 18, 11, 13,\n",
       "       18, 10, 10, 13, 15, 11, 16, 10, 13, 14, 10, 17, 10, 13, 10, 18, 13,\n",
       "       14, 11, 11, 14, 19, 15, 14, 13, 17, 10, 12, 12, 19, 19, 14, 18, 10,\n",
       "       16, 11, 17, 13, 16, 15, 17, 11, 10, 11, 15, 15, 19, 13, 18, 18, 13,\n",
       "       14, 19, 18, 15, 16, 18, 12, 14, 11, 14, 14, 19, 10, 18, 18, 16, 13,\n",
       "       15, 12, 18, 14, 19, 19, 11, 10, 19, 10, 19, 10, 19, 15, 12, 12, 16,\n",
       "       15, 10, 18, 14, 12, 14, 14, 19, 10, 16, 16, 14, 15, 10, 12, 12, 19,\n",
       "       17, 12, 13, 18, 13, 16, 15, 11, 19, 15, 19, 16, 13, 13, 18, 12, 11,\n",
       "       13, 10, 12, 18, 17, 12, 10, 10, 17, 11, 19, 11, 18, 17, 16, 11, 17,\n",
       "       17, 14, 11, 18, 11, 11, 17, 14, 19, 12, 11, 15, 19, 12, 12, 15, 12,\n",
       "       16, 15, 12, 12, 18, 18, 14, 13, 15, 17, 15, 13, 15, 19, 13, 13, 12,\n",
       "       11, 10, 13, 16, 15, 17, 19, 12, 11, 15, 17, 18, 18, 14, 17, 10, 13,\n",
       "       14, 18, 19, 17, 12, 13, 13, 16, 11, 13, 13, 17, 16, 12, 19, 18, 12,\n",
       "       14, 12, 11, 11, 14, 11, 14, 16, 16, 14, 11, 17, 15, 12, 16, 11, 12,\n",
       "       12, 18, 13, 15, 16, 14, 12, 11, 10, 13, 13, 15, 16, 15, 18, 13, 17,\n",
       "       11, 16, 13, 16, 16, 14, 14, 19, 10, 15, 12, 17, 18, 15])"
      ]
     },
     "execution_count": 39,
     "metadata": {},
     "output_type": "execute_result"
    }
   ],
   "source": [
    "population"
   ]
  },
  {
   "cell_type": "code",
   "execution_count": 46,
   "metadata": {},
   "outputs": [],
   "source": [
    "Estimates=[]"
   ]
  },
  {
   "cell_type": "code",
   "execution_count": null,
   "metadata": {},
   "outputs": [],
   "source": [
    "#continuous"
   ]
  },
  {
   "cell_type": "code",
   "execution_count": 49,
   "metadata": {},
   "outputs": [],
   "source": [
    "np.random.seed(10)\n",
    "for i in range (200):\n",
    "    sample=np.random.choice(a=population,size=100)\n",
    "    Estimates.append(sample.mean())"
   ]
  },
  {
   "cell_type": "code",
   "execution_count": 51,
   "metadata": {},
   "outputs": [
    {
     "data": {
      "text/plain": [
       "[14.64,\n",
       " 14.35,\n",
       " 14.38,\n",
       " 14.2,\n",
       " 13.6,\n",
       " 14.62,\n",
       " 14.46,\n",
       " 14.73,\n",
       " 14.57,\n",
       " 14.57,\n",
       " 14.89,\n",
       " 14.57,\n",
       " 14.65,\n",
       " 14.23,\n",
       " 14.1,\n",
       " 14.79,\n",
       " 13.94,\n",
       " 14.08,\n",
       " 14.25,\n",
       " 14.4,\n",
       " 14.57,\n",
       " 14.23,\n",
       " 13.75,\n",
       " 14.74,\n",
       " 13.71,\n",
       " 14.49,\n",
       " 14.3,\n",
       " 14.53,\n",
       " 14.58,\n",
       " 13.78,\n",
       " 14.25,\n",
       " 14.13,\n",
       " 14.41,\n",
       " 14.39,\n",
       " 14.5,\n",
       " 14.49,\n",
       " 14.6,\n",
       " 14.6,\n",
       " 14.14,\n",
       " 14.35,\n",
       " 14.91,\n",
       " 14.26,\n",
       " 14.49,\n",
       " 14.97,\n",
       " 14.65,\n",
       " 14.48,\n",
       " 14.0,\n",
       " 13.9,\n",
       " 13.89,\n",
       " 14.55,\n",
       " 14.38,\n",
       " 14.61,\n",
       " 13.53,\n",
       " 13.97,\n",
       " 14.25,\n",
       " 14.54,\n",
       " 14.01,\n",
       " 14.42,\n",
       " 14.42,\n",
       " 14.64,\n",
       " 14.63,\n",
       " 14.16,\n",
       " 14.65,\n",
       " 14.53,\n",
       " 14.54,\n",
       " 14.39,\n",
       " 14.32,\n",
       " 14.15,\n",
       " 14.46,\n",
       " 14.47,\n",
       " 14.72,\n",
       " 14.26,\n",
       " 14.71,\n",
       " 14.31,\n",
       " 14.2,\n",
       " 14.26,\n",
       " 14.48,\n",
       " 14.42,\n",
       " 14.42,\n",
       " 14.04,\n",
       " 14.37,\n",
       " 14.99,\n",
       " 14.75,\n",
       " 14.28,\n",
       " 14.3,\n",
       " 14.59,\n",
       " 13.8,\n",
       " 15.14,\n",
       " 14.51,\n",
       " 14.55,\n",
       " 14.24,\n",
       " 14.05,\n",
       " 14.65,\n",
       " 14.78,\n",
       " 14.34,\n",
       " 14.43,\n",
       " 13.88,\n",
       " 14.47,\n",
       " 13.78,\n",
       " 14.11,\n",
       " 14.25,\n",
       " 14.01,\n",
       " 14.17,\n",
       " 14.28,\n",
       " 14.62,\n",
       " 14.46,\n",
       " 13.45,\n",
       " 14.64,\n",
       " 14.99,\n",
       " 14.56,\n",
       " 14.16,\n",
       " 14.21,\n",
       " 14.19,\n",
       " 14.33,\n",
       " 14.62,\n",
       " 14.25,\n",
       " 14.51,\n",
       " 14.18,\n",
       " 14.73,\n",
       " 14.12,\n",
       " 14.34,\n",
       " 14.46,\n",
       " 14.21,\n",
       " 14.56,\n",
       " 14.41,\n",
       " 14.35,\n",
       " 14.49,\n",
       " 14.39,\n",
       " 14.09,\n",
       " 14.22,\n",
       " 14.62,\n",
       " 14.06,\n",
       " 14.71,\n",
       " 15.03,\n",
       " 14.31,\n",
       " 13.78,\n",
       " 14.52,\n",
       " 14.07,\n",
       " 14.03,\n",
       " 14.53,\n",
       " 14.74,\n",
       " 14.89,\n",
       " 14.33,\n",
       " 14.9,\n",
       " 14.35,\n",
       " 14.26,\n",
       " 14.51,\n",
       " 14.57,\n",
       " 14.11,\n",
       " 14.49,\n",
       " 13.76,\n",
       " 14.87,\n",
       " 14.3,\n",
       " 14.13,\n",
       " 14.69,\n",
       " 14.4,\n",
       " 14.22,\n",
       " 14.44,\n",
       " 14.14,\n",
       " 14.99,\n",
       " 14.73,\n",
       " 14.14,\n",
       " 14.47,\n",
       " 14.06,\n",
       " 14.04,\n",
       " 14.63,\n",
       " 14.33,\n",
       " 14.43,\n",
       " 14.53,\n",
       " 14.44,\n",
       " 14.49,\n",
       " 14.2,\n",
       " 14.67,\n",
       " 13.92,\n",
       " 14.78,\n",
       " 14.69,\n",
       " 14.3,\n",
       " 14.17,\n",
       " 14.39,\n",
       " 14.59,\n",
       " 14.64,\n",
       " 14.4,\n",
       " 14.5,\n",
       " 14.32,\n",
       " 14.5,\n",
       " 13.88,\n",
       " 14.44,\n",
       " 13.89,\n",
       " 14.47,\n",
       " 14.59,\n",
       " 14.48,\n",
       " 14.24,\n",
       " 14.52,\n",
       " 14.19,\n",
       " 14.21,\n",
       " 13.91,\n",
       " 13.85,\n",
       " 14.53,\n",
       " 14.62,\n",
       " 14.47,\n",
       " 14.64,\n",
       " 14.35,\n",
       " 14.38,\n",
       " 14.2,\n",
       " 13.6,\n",
       " 14.62,\n",
       " 14.46,\n",
       " 14.73,\n",
       " 14.57,\n",
       " 14.57,\n",
       " 14.89,\n",
       " 14.57,\n",
       " 14.65,\n",
       " 14.23,\n",
       " 14.1,\n",
       " 14.79,\n",
       " 13.94,\n",
       " 14.08,\n",
       " 14.25,\n",
       " 14.4,\n",
       " 14.57,\n",
       " 14.23,\n",
       " 13.75,\n",
       " 14.74,\n",
       " 13.71,\n",
       " 14.49,\n",
       " 14.3,\n",
       " 14.53,\n",
       " 14.58,\n",
       " 13.78,\n",
       " 14.25,\n",
       " 14.13,\n",
       " 14.41,\n",
       " 14.39,\n",
       " 14.5,\n",
       " 14.49,\n",
       " 14.6,\n",
       " 14.6,\n",
       " 14.14,\n",
       " 14.35,\n",
       " 14.91,\n",
       " 14.26,\n",
       " 14.49,\n",
       " 14.97,\n",
       " 14.65,\n",
       " 14.48,\n",
       " 14.0,\n",
       " 13.9,\n",
       " 13.89,\n",
       " 14.55,\n",
       " 14.38,\n",
       " 14.61,\n",
       " 13.53,\n",
       " 13.97,\n",
       " 14.25,\n",
       " 14.54,\n",
       " 14.01,\n",
       " 14.42,\n",
       " 14.42,\n",
       " 14.64,\n",
       " 14.63,\n",
       " 14.16,\n",
       " 14.65,\n",
       " 14.53,\n",
       " 14.54,\n",
       " 14.39,\n",
       " 14.32,\n",
       " 14.15,\n",
       " 14.46,\n",
       " 14.47,\n",
       " 14.72,\n",
       " 14.26,\n",
       " 14.71,\n",
       " 14.31,\n",
       " 14.2,\n",
       " 14.26,\n",
       " 14.48,\n",
       " 14.42,\n",
       " 14.42,\n",
       " 14.04,\n",
       " 14.37,\n",
       " 14.99,\n",
       " 14.75,\n",
       " 14.28,\n",
       " 14.3,\n",
       " 14.59,\n",
       " 13.8,\n",
       " 15.14,\n",
       " 14.51,\n",
       " 14.55,\n",
       " 14.24,\n",
       " 14.05,\n",
       " 14.65,\n",
       " 14.78,\n",
       " 14.34,\n",
       " 14.43,\n",
       " 13.88,\n",
       " 14.47,\n",
       " 13.78,\n",
       " 14.11,\n",
       " 14.25,\n",
       " 14.01,\n",
       " 14.17,\n",
       " 14.28,\n",
       " 14.62,\n",
       " 14.46,\n",
       " 13.45,\n",
       " 14.64,\n",
       " 14.99,\n",
       " 14.56,\n",
       " 14.16,\n",
       " 14.21,\n",
       " 14.19,\n",
       " 14.33,\n",
       " 14.62,\n",
       " 14.25,\n",
       " 14.51,\n",
       " 14.18,\n",
       " 14.73,\n",
       " 14.12,\n",
       " 14.34,\n",
       " 14.46,\n",
       " 14.21,\n",
       " 14.56,\n",
       " 14.41,\n",
       " 14.35,\n",
       " 14.49,\n",
       " 14.39,\n",
       " 14.09,\n",
       " 14.22,\n",
       " 14.62,\n",
       " 14.06,\n",
       " 14.71,\n",
       " 15.03,\n",
       " 14.31,\n",
       " 13.78,\n",
       " 14.52,\n",
       " 14.07,\n",
       " 14.03,\n",
       " 14.53,\n",
       " 14.74,\n",
       " 14.89,\n",
       " 14.33,\n",
       " 14.9,\n",
       " 14.35,\n",
       " 14.26,\n",
       " 14.51,\n",
       " 14.57,\n",
       " 14.11,\n",
       " 14.49,\n",
       " 13.76,\n",
       " 14.87,\n",
       " 14.3,\n",
       " 14.13,\n",
       " 14.69,\n",
       " 14.4,\n",
       " 14.22,\n",
       " 14.44,\n",
       " 14.14,\n",
       " 14.99,\n",
       " 14.73,\n",
       " 14.14,\n",
       " 14.47,\n",
       " 14.06,\n",
       " 14.04,\n",
       " 14.63,\n",
       " 14.33,\n",
       " 14.43,\n",
       " 14.53,\n",
       " 14.44,\n",
       " 14.49,\n",
       " 14.2,\n",
       " 14.67,\n",
       " 13.92,\n",
       " 14.78,\n",
       " 14.69,\n",
       " 14.3,\n",
       " 14.17,\n",
       " 14.39,\n",
       " 14.59,\n",
       " 14.64,\n",
       " 14.4,\n",
       " 14.5,\n",
       " 14.32,\n",
       " 14.5,\n",
       " 13.88,\n",
       " 14.44,\n",
       " 13.89,\n",
       " 14.47,\n",
       " 14.59,\n",
       " 14.48,\n",
       " 14.24,\n",
       " 14.52,\n",
       " 14.19,\n",
       " 14.21,\n",
       " 13.91,\n",
       " 13.85,\n",
       " 14.53,\n",
       " 14.62,\n",
       " 14.47]"
      ]
     },
     "execution_count": 51,
     "metadata": {},
     "output_type": "execute_result"
    }
   ],
   "source": [
    "Estimates"
   ]
  },
  {
   "cell_type": "code",
   "execution_count": 54,
   "metadata": {},
   "outputs": [
    {
     "data": {
      "text/plain": [
       "<matplotlib.axes._subplots.AxesSubplot at 0x1f99eacd160>"
      ]
     },
     "execution_count": 54,
     "metadata": {},
     "output_type": "execute_result"
    },
    {
     "data": {
      "image/png": "[encoded data removed]",
      "text/plain": [
       "<Figure size 432x288 with 1 Axes>"
      ]
     },
     "metadata": {
      "needs_background": "light"
     },
     "output_type": "display_data"
    }
   ],
   "source": [
    "pd.DataFrame(Estimates).plot(kind=\"density\")"
   ]
  },
  {
   "cell_type": "code",
   "execution_count": 55,
   "metadata": {},
   "outputs": [],
   "source": [
    "#CI=(sample meean-margin of erroe,sample mean+margin of error)"
   ]
  },
  {
   "cell_type": "code",
   "execution_count": 56,
   "metadata": {},
   "outputs": [],
   "source": [
    "import scipy.stats as stats"
   ]
  },
  {
   "cell_type": "code",
   "execution_count": 58,
   "metadata": {},
   "outputs": [
    {
     "data": {
      "text/plain": [
       "(1.959963984540054, 2.0638985616280205)"
      ]
     },
     "execution_count": 58,
     "metadata": {},
     "output_type": "execute_result"
    }
   ],
   "source": [
    "z_critical=stats.norm.ppf(q=0.975)\n",
    "t_critical=stats.t.ppf(q=0.975,df=24)\n",
    "z_critical,t_critical"
   ]
  },
  {
   "cell_type": "code",
   "execution_count": 59,
   "metadata": {},
   "outputs": [],
   "source": [
    "margin_of_error=z_critical*np.std(Estimates)/np.sqrt(200)"
   ]
  },
  {
   "cell_type": "code",
   "execution_count": 60,
   "metadata": {},
   "outputs": [
    {
     "data": {
      "text/plain": [
       "0.04121471469238978"
      ]
     },
     "execution_count": 60,
     "metadata": {},
     "output_type": "execute_result"
    }
   ],
   "source": [
    "margin_of_error"
   ]
  },
  {
   "cell_type": "code",
   "execution_count": 61,
   "metadata": {},
   "outputs": [
    {
     "data": {
      "text/plain": [
       "(14.33483528530761, 14.417264714692388)"
      ]
     },
     "execution_count": 61,
     "metadata": {},
     "output_type": "execute_result"
    }
   ],
   "source": [
    "np.mean(Estimates)-margin_of_error,np.mean(Estimates)+margin_of_error"
   ]
  },
  {
   "cell_type": "code",
   "execution_count": 64,
   "metadata": {},
   "outputs": [],
   "source": [
    "#Types of data\n",
    "#categorial data- 1.nominal-analysed in the form of count 2.ordinal-ex:movie rating \n",
    "#numerical data- 1.continuous data-any value in range Ex:car speed 2.discrete data-possible valuse that can be listed Ex:throw a dice"
   ]
  },
  {
   "cell_type": "code",
   "execution_count": null,
   "metadata": {},
   "outputs": [],
   "source": [
    "#Discrete"
   ]
  },
  {
   "cell_type": "code",
   "execution_count": 71,
   "metadata": {},
   "outputs": [],
   "source": [
    "a=np.unique(np.random.randint(0,4,100))"
   ]
  },
  {
   "cell_type": "code",
   "execution_count": 76,
   "metadata": {},
   "outputs": [
    {
     "data": {
      "text/plain": [
       "(array([1., 0., 0., 1., 0., 0., 1., 0., 0., 1.]),\n",
       " array([0. , 0.3, 0.6, 0.9, 1.2, 1.5, 1.8, 2.1, 2.4, 2.7, 3. ]),\n",
       " <a list of 10 Patch objects>)"
      ]
     },
     "execution_count": 76,
     "metadata": {},
     "output_type": "execute_result"
    },
    {
     "data": {
      "image/png": "[encoded data removed]",
      "text/plain": [
       "<Figure size 432x288 with 1 Axes>"
      ]
     },
     "metadata": {
      "needs_background": "light"
     },
     "output_type": "display_data"
    }
   ],
   "source": [
    "plt.hist(a)"
   ]
  },
  {
   "cell_type": "markdown",
   "metadata": {},
   "source": [
    "import matplotlib.pyplot as plt"
   ]
  },
  {
   "cell_type": "code",
   "execution_count": null,
   "metadata": {},
   "outputs": [],
   "source": [
    "#ordinal"
   ]
  },
  {
   "cell_type": "code",
   "execution_count": 79,
   "metadata": {},
   "outputs": [
    {
     "name": "stderr",
     "output_type": "stream",
     "text": [
      "D:\\anacnda\\lib\\site-packages\\matplotlib\\axes\\_axes.py:6571: UserWarning: The 'normed' kwarg is deprecated, and has been replaced by the 'density' kwarg.\n",
      "  warnings.warn(\"The 'normed' kwarg is deprecated, and has been \"\n"
     ]
    },
    {
     "data": {
      "text/plain": [
       "(array([0.03672858, 0.03672858, 0.03672858, 0.        , 0.        ,\n",
       "        0.14691431, 0.07345715, 0.14691431, 0.22037146, 0.07345715,\n",
       "        0.07345715, 0.29382861, 0.29382861, 0.22037146, 0.18364288,\n",
       "        0.22037146, 0.22037146, 0.11018573, 0.18364288, 0.18364288,\n",
       "        0.22037146, 0.14691431, 0.14691431, 0.03672858, 0.03672858,\n",
       "        0.03672858, 0.14691431, 0.07345715, 0.        , 0.07345715]),\n",
       " array([15.68534368, 15.95761125, 16.22987881, 16.50214638, 16.77441394,\n",
       "        17.0466815 , 17.31894907, 17.59121663, 17.8634842 , 18.13575176,\n",
       "        18.40801932, 18.68028689, 18.95255445, 19.22482202, 19.49708958,\n",
       "        19.76935714, 20.04162471, 20.31389227, 20.58615984, 20.8584274 ,\n",
       "        21.13069496, 21.40296253, 21.67523009, 21.94749766, 22.21976522,\n",
       "        22.49203279, 22.76430035, 23.03656791, 23.30883548, 23.58110304,\n",
       "        23.85337061]),\n",
       " <a list of 30 Patch objects>)"
      ]
     },
     "execution_count": 79,
     "metadata": {},
     "output_type": "execute_result"
    },
    {
     "data": {
      "image/png": "[encoded data removed]",
      "text/plain": [
       "<Figure size 432x288 with 1 Axes>"
      ]
     },
     "metadata": {
      "needs_background": "light"
     },
     "output_type": "display_data"
    }
   ],
   "source": [
    "mu=20;sigma=2;\n",
    "h=sorted(np.random.normal(mu,sigma,100))\n",
    "plt.hist(h,30,normed=True)"
   ]
  },
  {
   "cell_type": "code",
   "execution_count": null,
   "metadata": {},
   "outputs": [],
   "source": []
  },
  {
   "cell_type": "code",
   "execution_count": 85,
   "metadata": {},
   "outputs": [],
   "source": [
    "data=pd.DataFrame({'group':['a','a','a','b','b','b','c','c','c'],'ounces':[4,5,12,6,7.5,8,3,5,6]})\n",
    "data['rating']=np.random.randint(0,5,9)"
   ]
  },
  {
   "cell_type": "code",
   "execution_count": 86,
   "metadata": {},
   "outputs": [
    {
     "data": {
      "text/html": [
       "<div>\n",
       "<style scoped>\n",
       "    .dataframe tbody tr th:only-of-type {\n",
       "        vertical-align: middle;\n",
       "    }\n",
       "\n",
       "    .dataframe tbody tr th {\n",
       "        vertical-align: top;\n",
       "    }\n",
       "\n",
       "    .dataframe thead th {\n",
       "        text-align: right;\n",
       "    }\n",
       "</style>\n",
       "<table border=\"1\" class=\"dataframe\">\n",
       "  <thead>\n",
       "    <tr style=\"text-align: right;\">\n",
       "      <th></th>\n",
       "      <th>group</th>\n",
       "      <th>ounces</th>\n",
       "      <th>rating</th>\n",
       "    </tr>\n",
       "  </thead>\n",
       "  <tbody>\n",
       "    <tr>\n",
       "      <th>0</th>\n",
       "      <td>a</td>\n",
       "      <td>4.0</td>\n",
       "      <td>4</td>\n",
       "    </tr>\n",
       "    <tr>\n",
       "      <th>1</th>\n",
       "      <td>a</td>\n",
       "      <td>5.0</td>\n",
       "      <td>2</td>\n",
       "    </tr>\n",
       "    <tr>\n",
       "      <th>2</th>\n",
       "      <td>a</td>\n",
       "      <td>12.0</td>\n",
       "      <td>0</td>\n",
       "    </tr>\n",
       "    <tr>\n",
       "      <th>3</th>\n",
       "      <td>b</td>\n",
       "      <td>6.0</td>\n",
       "      <td>4</td>\n",
       "    </tr>\n",
       "    <tr>\n",
       "      <th>4</th>\n",
       "      <td>b</td>\n",
       "      <td>7.5</td>\n",
       "      <td>2</td>\n",
       "    </tr>\n",
       "    <tr>\n",
       "      <th>5</th>\n",
       "      <td>b</td>\n",
       "      <td>8.0</td>\n",
       "      <td>0</td>\n",
       "    </tr>\n",
       "    <tr>\n",
       "      <th>6</th>\n",
       "      <td>c</td>\n",
       "      <td>3.0</td>\n",
       "      <td>2</td>\n",
       "    </tr>\n",
       "    <tr>\n",
       "      <th>7</th>\n",
       "      <td>c</td>\n",
       "      <td>5.0</td>\n",
       "      <td>1</td>\n",
       "    </tr>\n",
       "    <tr>\n",
       "      <th>8</th>\n",
       "      <td>c</td>\n",
       "      <td>6.0</td>\n",
       "      <td>2</td>\n",
       "    </tr>\n",
       "  </tbody>\n",
       "</table>\n",
       "</div>"
      ],
      "text/plain": [
       "  group  ounces  rating\n",
       "0     a     4.0       4\n",
       "1     a     5.0       2\n",
       "2     a    12.0       0\n",
       "3     b     6.0       4\n",
       "4     b     7.5       2\n",
       "5     b     8.0       0\n",
       "6     c     3.0       2\n",
       "7     c     5.0       1\n",
       "8     c     6.0       2"
      ]
     },
     "execution_count": 86,
     "metadata": {},
     "output_type": "execute_result"
    }
   ],
   "source": [
    "data"
   ]
  },
  {
   "cell_type": "code",
   "execution_count": null,
   "metadata": {},
   "outputs": [],
   "source": [
    "#Nominal"
   ]
  },
  {
   "cell_type": "code",
   "execution_count": 88,
   "metadata": {},
   "outputs": [
    {
     "data": {
      "text/plain": [
       "<matplotlib.axes._subplots.AxesSubplot at 0x1f9a05f0c18>"
      ]
     },
     "execution_count": 88,
     "metadata": {},
     "output_type": "execute_result"
    },
    {
     "data": {
      "image/png": "[encoded data removed]",
      "text/plain": [
       "<Figure size 432x288 with 1 Axes>"
      ]
     },
     "metadata": {
      "needs_background": "light"
     },
     "output_type": "display_data"
    }
   ],
   "source": [
    "data.plot.bar(stacked=True)"
   ]
  },
  {
   "cell_type": "code",
   "execution_count": null,
   "metadata": {},
   "outputs": [],
   "source": []
  }
 ],
 "metadata": {
  "kernelspec": {
   "display_name": "Python 3",
   "language": "python",
   "name": "python3"
  },
  "language_info": {
   "codemirror_mode": {
    "name": "ipython",
    "version": 3
   },
   "file_extension": ".py",
   "mimetype": "text/x-python",
   "name": "python",
   "nbconvert_exporter": "python",
   "pygments_lexer": "ipython3",
   "version": "3.7.0"
  }
 },
 "nbformat": 4,
 "nbformat_minor": 2
}
