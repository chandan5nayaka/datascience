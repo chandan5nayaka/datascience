{
 "cells": [
  {
   "cell_type": "code",
   "execution_count": 3,
   "metadata": {},
   "outputs": [],
   "source": [
    "import numpy as np\n",
    "import pandas as pd\n",
    "import matplotlib.pyplot as plt\n",
    "%matplotlib inline"
   ]
  },
  {
   "cell_type": "markdown",
   "metadata": {},
   "source": [
    "m=np.random.radiant(2,10,40)\n",
    "df=pd.Dataframe(m)\n",
    "df=pd.Dataframe(df[0].value_counts())"
   ]
  },
  {
   "cell_type": "code",
   "execution_count": 6,
   "metadata": {},
   "outputs": [
    {
     "data": {
      "text/html": [
       "<div>\n",
       "<style scoped>\n",
       "    .dataframe tbody tr th:only-of-type {\n",
       "        vertical-align: middle;\n",
       "    }\n",
       "\n",
       "    .dataframe tbody tr th {\n",
       "        vertical-align: top;\n",
       "    }\n",
       "\n",
       "    .dataframe thead th {\n",
       "        text-align: right;\n",
       "    }\n",
       "</style>\n",
       "<table border=\"1\" class=\"dataframe\">\n",
       "  <thead>\n",
       "    <tr style=\"text-align: right;\">\n",
       "      <th></th>\n",
       "      <th>0</th>\n",
       "    </tr>\n",
       "  </thead>\n",
       "  <tbody>\n",
       "    <tr>\n",
       "      <th>0</th>\n",
       "      <td>3</td>\n",
       "    </tr>\n",
       "    <tr>\n",
       "      <th>1</th>\n",
       "      <td>8</td>\n",
       "    </tr>\n",
       "    <tr>\n",
       "      <th>2</th>\n",
       "      <td>9</td>\n",
       "    </tr>\n",
       "    <tr>\n",
       "      <th>3</th>\n",
       "      <td>5</td>\n",
       "    </tr>\n",
       "    <tr>\n",
       "      <th>4</th>\n",
       "      <td>3</td>\n",
       "    </tr>\n",
       "    <tr>\n",
       "      <th>5</th>\n",
       "      <td>5</td>\n",
       "    </tr>\n",
       "    <tr>\n",
       "      <th>6</th>\n",
       "      <td>2</td>\n",
       "    </tr>\n",
       "    <tr>\n",
       "      <th>7</th>\n",
       "      <td>4</td>\n",
       "    </tr>\n",
       "    <tr>\n",
       "      <th>8</th>\n",
       "      <td>8</td>\n",
       "    </tr>\n",
       "    <tr>\n",
       "      <th>9</th>\n",
       "      <td>2</td>\n",
       "    </tr>\n",
       "    <tr>\n",
       "      <th>10</th>\n",
       "      <td>8</td>\n",
       "    </tr>\n",
       "    <tr>\n",
       "      <th>11</th>\n",
       "      <td>5</td>\n",
       "    </tr>\n",
       "    <tr>\n",
       "      <th>12</th>\n",
       "      <td>2</td>\n",
       "    </tr>\n",
       "    <tr>\n",
       "      <th>13</th>\n",
       "      <td>6</td>\n",
       "    </tr>\n",
       "    <tr>\n",
       "      <th>14</th>\n",
       "      <td>3</td>\n",
       "    </tr>\n",
       "    <tr>\n",
       "      <th>15</th>\n",
       "      <td>9</td>\n",
       "    </tr>\n",
       "    <tr>\n",
       "      <th>16</th>\n",
       "      <td>8</td>\n",
       "    </tr>\n",
       "    <tr>\n",
       "      <th>17</th>\n",
       "      <td>2</td>\n",
       "    </tr>\n",
       "    <tr>\n",
       "      <th>18</th>\n",
       "      <td>5</td>\n",
       "    </tr>\n",
       "    <tr>\n",
       "      <th>19</th>\n",
       "      <td>5</td>\n",
       "    </tr>\n",
       "    <tr>\n",
       "      <th>20</th>\n",
       "      <td>3</td>\n",
       "    </tr>\n",
       "    <tr>\n",
       "      <th>21</th>\n",
       "      <td>4</td>\n",
       "    </tr>\n",
       "    <tr>\n",
       "      <th>22</th>\n",
       "      <td>6</td>\n",
       "    </tr>\n",
       "    <tr>\n",
       "      <th>23</th>\n",
       "      <td>2</td>\n",
       "    </tr>\n",
       "    <tr>\n",
       "      <th>24</th>\n",
       "      <td>3</td>\n",
       "    </tr>\n",
       "    <tr>\n",
       "      <th>25</th>\n",
       "      <td>2</td>\n",
       "    </tr>\n",
       "    <tr>\n",
       "      <th>26</th>\n",
       "      <td>7</td>\n",
       "    </tr>\n",
       "    <tr>\n",
       "      <th>27</th>\n",
       "      <td>9</td>\n",
       "    </tr>\n",
       "    <tr>\n",
       "      <th>28</th>\n",
       "      <td>3</td>\n",
       "    </tr>\n",
       "    <tr>\n",
       "      <th>29</th>\n",
       "      <td>2</td>\n",
       "    </tr>\n",
       "    <tr>\n",
       "      <th>30</th>\n",
       "      <td>9</td>\n",
       "    </tr>\n",
       "    <tr>\n",
       "      <th>31</th>\n",
       "      <td>6</td>\n",
       "    </tr>\n",
       "    <tr>\n",
       "      <th>32</th>\n",
       "      <td>6</td>\n",
       "    </tr>\n",
       "    <tr>\n",
       "      <th>33</th>\n",
       "      <td>6</td>\n",
       "    </tr>\n",
       "    <tr>\n",
       "      <th>34</th>\n",
       "      <td>4</td>\n",
       "    </tr>\n",
       "    <tr>\n",
       "      <th>35</th>\n",
       "      <td>3</td>\n",
       "    </tr>\n",
       "    <tr>\n",
       "      <th>36</th>\n",
       "      <td>7</td>\n",
       "    </tr>\n",
       "    <tr>\n",
       "      <th>37</th>\n",
       "      <td>5</td>\n",
       "    </tr>\n",
       "    <tr>\n",
       "      <th>38</th>\n",
       "      <td>5</td>\n",
       "    </tr>\n",
       "    <tr>\n",
       "      <th>39</th>\n",
       "      <td>5</td>\n",
       "    </tr>\n",
       "  </tbody>\n",
       "</table>\n",
       "</div>"
      ],
      "text/plain": [
       "    0\n",
       "0   3\n",
       "1   8\n",
       "2   9\n",
       "3   5\n",
       "4   3\n",
       "5   5\n",
       "6   2\n",
       "7   4\n",
       "8   8\n",
       "9   2\n",
       "10  8\n",
       "11  5\n",
       "12  2\n",
       "13  6\n",
       "14  3\n",
       "15  9\n",
       "16  8\n",
       "17  2\n",
       "18  5\n",
       "19  5\n",
       "20  3\n",
       "21  4\n",
       "22  6\n",
       "23  2\n",
       "24  3\n",
       "25  2\n",
       "26  7\n",
       "27  9\n",
       "28  3\n",
       "29  2\n",
       "30  9\n",
       "31  6\n",
       "32  6\n",
       "33  6\n",
       "34  4\n",
       "35  3\n",
       "36  7\n",
       "37  5\n",
       "38  5\n",
       "39  5"
      ]
     },
     "execution_count": 6,
     "metadata": {},
     "output_type": "execute_result"
    }
   ],
   "source": [
    "m=np.random.randint(2,10,40) \n",
    "df=pd.DataFrame(m) \n",
    "df"
   ]
  },
  {
   "cell_type": "code",
   "execution_count": 9,
   "metadata": {},
   "outputs": [
    {
     "data": {
      "text/html": [
       "<div>\n",
       "<style scoped>\n",
       "    .dataframe tbody tr th:only-of-type {\n",
       "        vertical-align: middle;\n",
       "    }\n",
       "\n",
       "    .dataframe tbody tr th {\n",
       "        vertical-align: top;\n",
       "    }\n",
       "\n",
       "    .dataframe thead th {\n",
       "        text-align: right;\n",
       "    }\n",
       "</style>\n",
       "<table border=\"1\" class=\"dataframe\">\n",
       "  <thead>\n",
       "    <tr style=\"text-align: right;\">\n",
       "      <th></th>\n",
       "      <th>0</th>\n",
       "    </tr>\n",
       "  </thead>\n",
       "  <tbody>\n",
       "    <tr>\n",
       "      <th>5</th>\n",
       "      <td>8</td>\n",
       "    </tr>\n",
       "    <tr>\n",
       "      <th>3</th>\n",
       "      <td>7</td>\n",
       "    </tr>\n",
       "    <tr>\n",
       "      <th>2</th>\n",
       "      <td>7</td>\n",
       "    </tr>\n",
       "    <tr>\n",
       "      <th>6</th>\n",
       "      <td>5</td>\n",
       "    </tr>\n",
       "    <tr>\n",
       "      <th>9</th>\n",
       "      <td>4</td>\n",
       "    </tr>\n",
       "    <tr>\n",
       "      <th>8</th>\n",
       "      <td>4</td>\n",
       "    </tr>\n",
       "    <tr>\n",
       "      <th>4</th>\n",
       "      <td>3</td>\n",
       "    </tr>\n",
       "    <tr>\n",
       "      <th>7</th>\n",
       "      <td>2</td>\n",
       "    </tr>\n",
       "  </tbody>\n",
       "</table>\n",
       "</div>"
      ],
      "text/plain": [
       "   0\n",
       "5  8\n",
       "3  7\n",
       "2  7\n",
       "6  5\n",
       "9  4\n",
       "8  4\n",
       "4  3\n",
       "7  2"
      ]
     },
     "execution_count": 9,
     "metadata": {},
     "output_type": "execute_result"
    }
   ],
   "source": [
    "df=pd.DataFrame(df[0].value_counts())\n",
    "df"
   ]
  },
  {
   "cell_type": "code",
   "execution_count": 11,
   "metadata": {},
   "outputs": [
    {
     "data": {
      "text/plain": [
       "40"
      ]
     },
     "execution_count": 11,
     "metadata": {},
     "output_type": "execute_result"
    }
   ],
   "source": [
    "length=len(m)\n",
    "length"
   ]
  },
  {
   "cell_type": "code",
   "execution_count": 15,
   "metadata": {},
   "outputs": [],
   "source": [
    "data=pd.DataFrame(df[0])\n",
    "data.columns=[\"counts\"]"
   ]
  },
  {
   "cell_type": "code",
   "execution_count": 16,
   "metadata": {},
   "outputs": [
    {
     "data": {
      "text/html": [
       "<div>\n",
       "<style scoped>\n",
       "    .dataframe tbody tr th:only-of-type {\n",
       "        vertical-align: middle;\n",
       "    }\n",
       "\n",
       "    .dataframe tbody tr th {\n",
       "        vertical-align: top;\n",
       "    }\n",
       "\n",
       "    .dataframe thead th {\n",
       "        text-align: right;\n",
       "    }\n",
       "</style>\n",
       "<table border=\"1\" class=\"dataframe\">\n",
       "  <thead>\n",
       "    <tr style=\"text-align: right;\">\n",
       "      <th></th>\n",
       "      <th>counts</th>\n",
       "    </tr>\n",
       "  </thead>\n",
       "  <tbody>\n",
       "    <tr>\n",
       "      <th>5</th>\n",
       "      <td>8</td>\n",
       "    </tr>\n",
       "    <tr>\n",
       "      <th>3</th>\n",
       "      <td>7</td>\n",
       "    </tr>\n",
       "    <tr>\n",
       "      <th>2</th>\n",
       "      <td>7</td>\n",
       "    </tr>\n",
       "    <tr>\n",
       "      <th>6</th>\n",
       "      <td>5</td>\n",
       "    </tr>\n",
       "    <tr>\n",
       "      <th>9</th>\n",
       "      <td>4</td>\n",
       "    </tr>\n",
       "    <tr>\n",
       "      <th>8</th>\n",
       "      <td>4</td>\n",
       "    </tr>\n",
       "    <tr>\n",
       "      <th>4</th>\n",
       "      <td>3</td>\n",
       "    </tr>\n",
       "    <tr>\n",
       "      <th>7</th>\n",
       "      <td>2</td>\n",
       "    </tr>\n",
       "  </tbody>\n",
       "</table>\n",
       "</div>"
      ],
      "text/plain": [
       "   counts\n",
       "5       8\n",
       "3       7\n",
       "2       7\n",
       "6       5\n",
       "9       4\n",
       "8       4\n",
       "4       3\n",
       "7       2"
      ]
     },
     "execution_count": 16,
     "metadata": {},
     "output_type": "execute_result"
    }
   ],
   "source": [
    "data"
   ]
  },
  {
   "cell_type": "code",
   "execution_count": 20,
   "metadata": {},
   "outputs": [
    {
     "data": {
      "text/plain": [
       "5    0.200\n",
       "3    0.175\n",
       "2    0.175\n",
       "6    0.125\n",
       "9    0.100\n",
       "8    0.100\n",
       "4    0.075\n",
       "7    0.050\n",
       "Name: prob, dtype: float64"
      ]
     },
     "execution_count": 20,
     "metadata": {},
     "output_type": "execute_result"
    }
   ],
   "source": [
    "data['prob']=data['counts']/length\n",
    "data['prob']"
   ]
  },
  {
   "cell_type": "code",
   "execution_count": 22,
   "metadata": {},
   "outputs": [
    {
     "data": {
      "text/html": [
       "<div>\n",
       "<style scoped>\n",
       "    .dataframe tbody tr th:only-of-type {\n",
       "        vertical-align: middle;\n",
       "    }\n",
       "\n",
       "    .dataframe tbody tr th {\n",
       "        vertical-align: top;\n",
       "    }\n",
       "\n",
       "    .dataframe thead th {\n",
       "        text-align: right;\n",
       "    }\n",
       "</style>\n",
       "<table border=\"1\" class=\"dataframe\">\n",
       "  <thead>\n",
       "    <tr style=\"text-align: right;\">\n",
       "      <th></th>\n",
       "      <th>candy</th>\n",
       "      <th>value</th>\n",
       "    </tr>\n",
       "  </thead>\n",
       "  <tbody>\n",
       "    <tr>\n",
       "      <th>0</th>\n",
       "      <td>orange</td>\n",
       "      <td>1000</td>\n",
       "    </tr>\n",
       "    <tr>\n",
       "      <th>1</th>\n",
       "      <td>blue</td>\n",
       "      <td>2000</td>\n",
       "    </tr>\n",
       "    <tr>\n",
       "      <th>2</th>\n",
       "      <td>purple</td>\n",
       "      <td>6000</td>\n",
       "    </tr>\n",
       "    <tr>\n",
       "      <th>3</th>\n",
       "      <td>red</td>\n",
       "      <td>8000</td>\n",
       "    </tr>\n",
       "  </tbody>\n",
       "</table>\n",
       "</div>"
      ],
      "text/plain": [
       "    candy  value\n",
       "0  orange   1000\n",
       "1    blue   2000\n",
       "2  purple   6000\n",
       "3     red   8000"
      ]
     },
     "execution_count": 22,
     "metadata": {},
     "output_type": "execute_result"
    }
   ],
   "source": [
    "data={'candy':[\"orange\",\"blue\",\"purple\",\"red\"],'value':[1000,2000,6000,8000]}\n",
    "df=pd.DataFrame(data)\n",
    "df"
   ]
  },
  {
   "cell_type": "code",
   "execution_count": 24,
   "metadata": {},
   "outputs": [
    {
     "data": {
      "text/html": [
       "<div>\n",
       "<style scoped>\n",
       "    .dataframe tbody tr th:only-of-type {\n",
       "        vertical-align: middle;\n",
       "    }\n",
       "\n",
       "    .dataframe tbody tr th {\n",
       "        vertical-align: top;\n",
       "    }\n",
       "\n",
       "    .dataframe thead th {\n",
       "        text-align: right;\n",
       "    }\n",
       "</style>\n",
       "<table border=\"1\" class=\"dataframe\">\n",
       "  <thead>\n",
       "    <tr style=\"text-align: right;\">\n",
       "      <th></th>\n",
       "      <th>candy</th>\n",
       "      <th>value</th>\n",
       "      <th>pmf</th>\n",
       "    </tr>\n",
       "  </thead>\n",
       "  <tbody>\n",
       "    <tr>\n",
       "      <th>0</th>\n",
       "      <td>orange</td>\n",
       "      <td>1000</td>\n",
       "      <td>0.058824</td>\n",
       "    </tr>\n",
       "    <tr>\n",
       "      <th>1</th>\n",
       "      <td>blue</td>\n",
       "      <td>2000</td>\n",
       "      <td>0.117647</td>\n",
       "    </tr>\n",
       "    <tr>\n",
       "      <th>2</th>\n",
       "      <td>purple</td>\n",
       "      <td>6000</td>\n",
       "      <td>0.352941</td>\n",
       "    </tr>\n",
       "    <tr>\n",
       "      <th>3</th>\n",
       "      <td>red</td>\n",
       "      <td>8000</td>\n",
       "      <td>0.470588</td>\n",
       "    </tr>\n",
       "  </tbody>\n",
       "</table>\n",
       "</div>"
      ],
      "text/plain": [
       "    candy  value       pmf\n",
       "0  orange   1000  0.058824\n",
       "1    blue   2000  0.117647\n",
       "2  purple   6000  0.352941\n",
       "3     red   8000  0.470588"
      ]
     },
     "execution_count": 24,
     "metadata": {},
     "output_type": "execute_result"
    }
   ],
   "source": [
    "df[\"pmf\"]=df[\"value\"]/df[\"value\"].sum()\n",
    "df"
   ]
  },
  {
   "cell_type": "code",
   "execution_count": 30,
   "metadata": {},
   "outputs": [
    {
     "data": {
      "text/plain": [
       "array([-0.49153103,  0.04458314, -0.05774024,  0.13908898, -1.19491312,\n",
       "       -1.16463642,  0.58184366, -0.043148  ,  1.28692009, -0.98553872,\n",
       "        0.63567021,  0.20244924, -1.54452648, -0.05928057,  1.5757495 ,\n",
       "       -0.15822483, -1.21725138, -1.14211597, -1.96969424, -1.71026292,\n",
       "        0.71020596, -0.34930228, -1.71021963, -0.7916547 , -0.6854874 ,\n",
       "        0.10251389, -0.53304099,  1.49356948,  0.02210664,  1.20792485,\n",
       "       -0.0206468 , -0.03707132, -1.5031974 ,  0.31924285,  0.23383099,\n",
       "        1.04597456,  0.78612344,  0.77737015, -0.74492151, -0.69471452,\n",
       "        0.91756123, -0.31772372,  1.30813934,  0.82110655,  0.2666567 ,\n",
       "       -1.04619159,  0.06405633,  1.46876663,  0.86335224, -0.03391203,\n",
       "       -0.09707264,  1.32960081,  0.4493058 , -0.13381545,  1.09432136,\n",
       "        0.27678513,  0.99487143,  1.2824558 ,  0.48431751, -0.68334502,\n",
       "       -0.12566267, -1.36681651,  0.03585678, -0.41280089, -0.00904872,\n",
       "       -1.19340394,  0.24690904,  0.87598696,  0.06020746, -1.24877177,\n",
       "       -0.35547893,  0.0896306 ,  1.69612817,  0.84754519, -1.23520933,\n",
       "        1.33671471, -0.74587771, -0.46442246, -0.89844151,  0.13163926,\n",
       "        0.33442897,  1.3775162 , -1.13870085, -0.64233266,  0.72828711,\n",
       "       -0.95957764,  0.4433737 ,  0.85587844, -0.1721623 ,  0.02812312,\n",
       "       -0.48793137,  0.27821982, -0.22572387,  0.72813392, -0.60661546,\n",
       "        0.98394806,  0.31722141,  0.50775029, -0.03256199,  0.41159154,\n",
       "        1.7       ,  1.3       ,  1.5       ,  1.1       ])"
      ]
     },
     "execution_count": 30,
     "metadata": {},
     "output_type": "execute_result"
    }
   ],
   "source": [
    "df=np.random.normal(size=100)\n",
    "df=np.append(df,[1.7,1.3,1.5,1.1])\n",
    "df"
   ]
  },
  {
   "cell_type": "code",
   "execution_count": 34,
   "metadata": {},
   "outputs": [
    {
     "name": "stderr",
     "output_type": "stream",
     "text": [
      "D:\\anacnda\\lib\\site-packages\\scipy\\stats\\stats.py:1713: FutureWarning: Using a non-tuple sequence for multidimensional indexing is deprecated; use `arr[tuple(seq)]` instead of `arr[seq]`. In the future this will be interpreted as an array index, `arr[np.array(seq)]`, which will result either in an error or a different result.\n",
      "  return np.add.reduce(sorted[indexer] * weights, axis=axis) / sumval\n"
     ]
    },
    {
     "data": {
      "text/plain": [
       "<matplotlib.axes._subplots.AxesSubplot at 0x17d7fd0dfd0>"
      ]
     },
     "execution_count": 34,
     "metadata": {},
     "output_type": "execute_result"
    },
    {
     "data": {
      "image/png": "[encoded data removed]",
      "text/plain": [
       "<Figure size 432x288 with 1 Axes>"
      ]
     },
     "metadata": {
      "needs_background": "light"
     },
     "output_type": "display_data"
    }
   ],
   "source": [
    "import seaborn as sns\n",
    "sns.distplot(df)"
   ]
  },
  {
   "cell_type": "code",
   "execution_count": 35,
   "metadata": {},
   "outputs": [],
   "source": [
    "import scipy.stats as stats"
   ]
  },
  {
   "cell_type": "code",
   "execution_count": 38,
   "metadata": {},
   "outputs": [
    {
     "data": {
      "text/plain": [
       "[16.056805479541783,\n",
       " 16.25099959247189,\n",
       " 16.34156512161895,\n",
       " 16.46787088081847,\n",
       " 16.605167655858065,\n",
       " 16.61164507657951,\n",
       " 16.869813916503148,\n",
       " 16.921525511713305,\n",
       " 17.11806595912441,\n",
       " 17.145952264548576,\n",
       " 17.229486194290725,\n",
       " 17.425447650811837,\n",
       " 17.508045042415453,\n",
       " 17.58390131724388,\n",
       " 17.63279010613993,\n",
       " 17.643020056902643,\n",
       " 17.652446972410484,\n",
       " 17.721182504966404,\n",
       " 17.81305038872994,\n",
       " 17.900583868923693,\n",
       " 18.188589258948454,\n",
       " 18.315683696165237,\n",
       " 18.347400672864694,\n",
       " 18.657579784978864,\n",
       " 18.670344921019144,\n",
       " 18.75582203452529,\n",
       " 18.76971057681771,\n",
       " 18.811366523128324,\n",
       " 18.840586050889012,\n",
       " 19.08084030828404,\n",
       " 19.089838616031823,\n",
       " 19.097152866509298,\n",
       " 19.291631785614715,\n",
       " 19.310207074941648,\n",
       " 19.35890112013317,\n",
       " 19.359549140946132,\n",
       " 19.363416028662723,\n",
       " 19.48503857429549,\n",
       " 19.54266954162711,\n",
       " 19.54914639426379,\n",
       " 19.590804276715012,\n",
       " 19.646505322979966,\n",
       " 19.677969696557465,\n",
       " 19.713661099523037,\n",
       " 19.728517216228376,\n",
       " 19.81073274461028,\n",
       " 19.84772423664871,\n",
       " 19.864933894475712,\n",
       " 19.917239792757506,\n",
       " 19.95312345239099,\n",
       " 19.954681083805188,\n",
       " 19.987365772638153,\n",
       " 19.99956024498908,\n",
       " 20.023506924391118,\n",
       " 20.05557831995298,\n",
       " 20.07135992788935,\n",
       " 20.127973073989445,\n",
       " 20.217854099466695,\n",
       " 20.273312816658443,\n",
       " 20.462828831315417,\n",
       " 20.48772131406927,\n",
       " 20.5129174156216,\n",
       " 20.616195783957107,\n",
       " 20.631333296883845,\n",
       " 20.68631895128546,\n",
       " 20.7803393214127,\n",
       " 20.831018221582852,\n",
       " 20.846493082166543,\n",
       " 20.87023425479113,\n",
       " 20.93195371761197,\n",
       " 20.9391941627604,\n",
       " 21.075830954965877,\n",
       " 21.08960603344724,\n",
       " 21.090229525296635,\n",
       " 21.09327024642601,\n",
       " 21.20634577310603,\n",
       " 21.21133888596197,\n",
       " 21.214972600478358,\n",
       " 21.275266170990943,\n",
       " 21.43616343731951,\n",
       " 21.440703135774037,\n",
       " 21.587765214371924,\n",
       " 21.615033923479576,\n",
       " 21.683074125006065,\n",
       " 21.722677936011074,\n",
       " 21.732765297015483,\n",
       " 21.782552007628663,\n",
       " 21.825365275680447,\n",
       " 21.90250184227641,\n",
       " 22.189894059127905,\n",
       " 22.301701156335394,\n",
       " 22.365110609984292,\n",
       " 22.369475023682828,\n",
       " 22.42640066065259,\n",
       " 22.822375388923888,\n",
       " 22.9536538962168,\n",
       " 23.034720378514393,\n",
       " 23.18235649443173,\n",
       " 23.24366821754931,\n",
       " 24.196116280597316]"
      ]
     },
     "execution_count": 38,
     "metadata": {},
     "output_type": "execute_result"
    }
   ],
   "source": [
    "u=20\n",
    "sigma=2\n",
    "h=sorted(np.random.normal(u,sigma,100))\n",
    "h"
   ]
  },
  {
   "cell_type": "code",
   "execution_count": 42,
   "metadata": {},
   "outputs": [
    {
     "data": {
      "text/plain": [
       "array([0.02451539, 0.03047967, 0.03360648, 0.03835095, 0.04402968,\n",
       "       0.04431121, 0.05654058, 0.05922568, 0.07012816, 0.07176187,\n",
       "       0.07677895, 0.08922711, 0.09473097, 0.09990263, 0.10328919,\n",
       "       0.10400271, 0.10466166, 0.10950532, 0.11607188, 0.12240388,\n",
       "       0.14341632, 0.15258067, 0.15483969, 0.17593217, 0.17674914,\n",
       "       0.18208716, 0.18293145, 0.18542246, 0.18713144, 0.19982984,\n",
       "       0.20025396, 0.20059575, 0.20866002, 0.20932183, 0.2109623 ,\n",
       "       0.2109832 , 0.21110739, 0.21455581, 0.21587229, 0.2160072 ,\n",
       "       0.21681122, 0.21771252, 0.2181329 , 0.2185316 , 0.21867295,\n",
       "       0.21919246, 0.21928047, 0.21929053, 0.21920065, 0.21903427,\n",
       "       0.21902512, 0.21879623, 0.21869281, 0.2184613 , 0.21809242,\n",
       "       0.21788627, 0.21701396, 0.21520769, 0.21384013, 0.20776972,\n",
       "       0.20681847, 0.2058208 , 0.20137737, 0.20067985, 0.19805105,\n",
       "       0.19322619, 0.19046331, 0.18959823, 0.1882522 , 0.18465031,\n",
       "       0.18421841, 0.17573199, 0.17484369, 0.17480335, 0.17460647,\n",
       "       0.16710855, 0.16677013, 0.1665235 , 0.16238932, 0.15103824,\n",
       "       0.15071265, 0.14006389, 0.1380745 , 0.13310249, 0.13020743,\n",
       "       0.12947035, 0.12583644, 0.12271967, 0.11713389, 0.0969239 ,\n",
       "       0.08943413, 0.08530328, 0.08502228, 0.08139789, 0.05851164,\n",
       "       0.05190017, 0.048071  , 0.04159576, 0.03909436, 0.01289267])"
      ]
     },
     "execution_count": 42,
     "metadata": {},
     "output_type": "execute_result"
    }
   ],
   "source": [
    "fit=stats.norm.pdf(h,np.mean(h),np.std(h))\n",
    "fit"
   ]
  },
  {
   "cell_type": "code",
   "execution_count": 46,
   "metadata": {},
   "outputs": [
    {
     "data": {
      "text/plain": [
       "[<matplotlib.lines.Line2D at 0x17d7fd644e0>]"
      ]
     },
     "execution_count": 46,
     "metadata": {},
     "output_type": "execute_result"
    },
    {
     "data": {
      "image/png": "[encoded data removed]",
      "text/plain": [
       "<Figure size 432x288 with 1 Axes>"
      ]
     },
     "metadata": {
      "needs_background": "light"
     },
     "output_type": "display_data"
    }
   ],
   "source": [
    "plt.plot(h,fit,'-o')"
   ]
  },
  {
   "cell_type": "code",
   "execution_count": 47,
   "metadata": {},
   "outputs": [
    {
     "name": "stderr",
     "output_type": "stream",
     "text": [
      "D:\\anacnda\\lib\\site-packages\\matplotlib\\axes\\_axes.py:6571: UserWarning: The 'normed' kwarg is deprecated, and has been replaced by the 'density' kwarg.\n",
      "  warnings.warn(\"The 'normed' kwarg is deprecated, and has been \"\n"
     ]
    },
    {
     "data": {
      "text/plain": [
       "(array([0.08600237, 0.12286053, 0.07371632, 0.13514658, 0.27029316,\n",
       "        0.18429079, 0.18429079, 0.09828842, 0.06143026, 0.01228605]),\n",
       " array([16.05680548, 16.87073656, 17.68466764, 18.49859872, 19.3125298 ,\n",
       "        20.12646088, 20.94039196, 21.75432304, 22.56825412, 23.3821852 ,\n",
       "        24.19611628]),\n",
       " <a list of 10 Patch objects>)"
      ]
     },
     "execution_count": 47,
     "metadata": {},
     "output_type": "execute_result"
    },
    {
     "data": {
      "image/png": "[encoded data removed]",
      "text/plain": [
       "<Figure size 432x288 with 1 Axes>"
      ]
     },
     "metadata": {
      "needs_background": "light"
     },
     "output_type": "display_data"
    }
   ],
   "source": [
    "plt.hist(h,normed='true')"
   ]
  },
  {
   "cell_type": "code",
   "execution_count": 49,
   "metadata": {},
   "outputs": [
    {
     "data": {
      "text/plain": [
       "[<matplotlib.lines.Line2D at 0x17d0147a2b0>]"
      ]
     },
     "execution_count": 49,
     "metadata": {},
     "output_type": "execute_result"
    },
    {
     "data": {
      "image/png": "[encoded data removed]",
      "text/plain": [
       "<Figure size 432x288 with 1 Axes>"
      ]
     },
     "metadata": {
      "needs_background": "light"
     },
     "output_type": "display_data"
    }
   ],
   "source": [
    "x=np.linspace(-5,5,5000)\n",
    "plt.plot(x)"
   ]
  },
  {
   "cell_type": "code",
   "execution_count": 53,
   "metadata": {},
   "outputs": [
    {
     "data": {
      "text/plain": [
       "[<matplotlib.lines.Line2D at 0x17d0155ba58>]"
      ]
     },
     "execution_count": 53,
     "metadata": {},
     "output_type": "execute_result"
    },
    {
     "data": {
      "image/png": "[encoded data removed]",
      "text/plain": [
       "<Figure size 432x288 with 1 Axes>"
      ]
     },
     "metadata": {
      "needs_background": "light"
     },
     "output_type": "display_data"
    }
   ],
   "source": [
    "u=0\n",
    "sigma=1\n",
    "y_pdf=stats.norm.pdf(x,u,sigma)\n",
    "y_cdf=stats.norm.cdf(x,u,sigma)\n",
    "plt.plot(x,y_pdf,label='pdf')\n",
    "plt.plot(x,y_cdf,label='cdf')"
   ]
  },
  {
   "cell_type": "code",
   "execution_count": 56,
   "metadata": {},
   "outputs": [],
   "source": [
    "import pyodbc"
   ]
  },
  {
   "cell_type": "code",
   "execution_count": null,
   "metadata": {},
   "outputs": [],
   "source": []
  }
 ],
 "metadata": {
  "kernelspec": {
   "display_name": "Python 3",
   "language": "python",
   "name": "python3"
  },
  "language_info": {
   "codemirror_mode": {
    "name": "ipython",
    "version": 3
   },
   "file_extension": ".py",
   "mimetype": "text/x-python",
   "name": "python",
   "nbconvert_exporter": "python",
   "pygments_lexer": "ipython3",
   "version": "3.7.0"
  }
 },
 "nbformat": 4,
 "nbformat_minor": 2
}
